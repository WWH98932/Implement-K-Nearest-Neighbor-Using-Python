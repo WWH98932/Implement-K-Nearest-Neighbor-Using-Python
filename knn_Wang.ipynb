{
 "cells": [
  {
   "cell_type": "code",
   "execution_count": 23,
   "metadata": {
    "collapsed": true
   },
   "outputs": [],
   "source": []
  },
  {
   "cell_type": "markdown",
   "metadata": {},
   "source": [
    "## Tried another way"
   ]
  },
  {
   "cell_type": "code",
   "execution_count": 21,
   "metadata": {},
   "outputs": [
    {
     "data": {
      "text/plain": [
       "[10, 0, 0, 10]"
      ]
     },
     "execution_count": 21,
     "metadata": {},
     "output_type": "execute_result"
    }
   ],
   "source": [
    "import numpy as np\n",
    "\n",
    "\n",
    "def knearestneighbor(trainfile, testfile, outputfile, k): \n",
    "        # Convert train and test file into numpy matrix\n",
    "        test = np.loadtxt(testfile,delimiter=\",\",skiprows=1)\n",
    "        Xtest = test[:,0:4] \n",
    "        Ytest = test[:,4]\n",
    "        train = np.loadtxt(trainfile,delimiter=\",\",skiprows=1)\n",
    "        Xtrain = train[:,0:4]\n",
    "        Ytrain = train[:,4]\n",
    "        # Create a numpy array Yhat(1x20)\n",
    "        Yhat = []\n",
    "        \n",
    "        for i in range(0,20):\n",
    "                Distance = []\n",
    "                k_nearest = []\n",
    "                for j in range(0,80):\n",
    "                    d = []\n",
    "                    d = np.sqrt(pow((Xtrain[j,0]-Xtest[i,0]),2) \n",
    "                                +pow((Xtrain[j,1]-Xtest[i,1]),2)\n",
    "                                +pow((Xtrain[j,2]-Xtest[i,2]),2) \n",
    "                                +pow((Xtrain[j,3]-Xtest[i,3]),2))\n",
    "                    Distance.append(d)\n",
    "                Times0 = 0\n",
    "                Times1 = 0\n",
    "                Distance = np.array(Distance)\n",
    "                k_nearest = np.c_[Distance, Ytrain]\n",
    "                k_nearest = k_nearest[k_nearest[:,0].argsort()]\n",
    "\n",
    "                for K in range(0,k):\n",
    "                    if(k_nearest[K,1] == 0): \n",
    "                        Times0 = (Times0+1)\n",
    "                    else: Times1 = (Times1+1) \n",
    "                if(Times0 < Times1): \n",
    "                    Yhat.append(1)\n",
    "                else:Yhat.append(0) \n",
    "                    \n",
    "        Yhat = np.array(Yhat)\n",
    "        # Save the output result\n",
    "        np.savetxt(outputfile, Yhat, fmt='%.1f', header=\"Yhat\")\n",
    "\n",
    "        #Build confusion matrix\n",
    "        confusionmatrix = np.zeros(4, dtype = int)\n",
    "    \n",
    "        for i in range(20):\n",
    "            if (Yhat[i]==0 and Ytest[i]==0):\n",
    "                confusionmatrix[0] += 1\n",
    "            if (Yhat[i]==0 and Ytest[i]==1):\n",
    "                confusionmatrix[1] += 1\n",
    "            if (Yhat[i]==1 and Ytest[i]==0):\n",
    "                confusionmatrix[2] += 1\n",
    "            if (Yhat[i]==1 and Ytest[i]==1):\n",
    "                confusionmatrix[3] += 1\n",
    "        confusionmatrix = list(confusionmatrix)\n",
    "        return confusionmatrix \n",
    "    \n",
    "#fist knn    \n",
    "knearestneighbor(\"iristrain.csv\", \"iristest.csv\", \"outputfile.csv\", 5)"
   ]
  },
  {
   "cell_type": "code",
   "execution_count": null,
   "metadata": {
    "collapsed": true
   },
   "outputs": [],
   "source": []
  }
 ],
 "metadata": {
  "kernelspec": {
   "display_name": "Python 3",
   "language": "python",
   "name": "python3"
  },
  "language_info": {
   "codemirror_mode": {
    "name": "ipython",
    "version": 3
   },
   "file_extension": ".py",
   "mimetype": "text/x-python",
   "name": "python",
   "nbconvert_exporter": "python",
   "pygments_lexer": "ipython3",
   "version": "3.6.3"
  }
 },
 "nbformat": 4,
 "nbformat_minor": 2
}
